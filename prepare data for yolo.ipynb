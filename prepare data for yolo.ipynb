{
 "cells": [
  {
   "cell_type": "code",
   "execution_count": 2,
   "outputs": [],
   "source": [
    "import pandas as pd\n",
    "import os, shutil\n",
    "\n",
    "import xml.etree.ElementTree as ET\n",
    "import cv2"
   ],
   "metadata": {
    "collapsed": false,
    "ExecuteTime": {
     "end_time": "2023-10-28T15:13:47.645643100Z",
     "start_time": "2023-10-28T15:13:46.017951600Z"
    }
   },
   "id": "43f7db2f00e8d7e6"
  },
  {
   "cell_type": "code",
   "execution_count": 3,
   "outputs": [
    {
     "data": {
      "text/plain": "                              image  height  width label  xmin  ymin  xmax  \\\n0    ckicup6z1000g246a7fphj2ry.jpeg     157    321     6    13    11    44   \n1    ckicup6z1000g246a7fphj2ry.jpeg     157    321     0    50    33    78   \n2    ckicup6z1000g246a7fphj2ry.jpeg     157    321     4    84    11   114   \n3    ckicup6z1000g246a7fphj2ry.jpeg     157    321     6   119    11   149   \n4    ckicup6z1000g246a7fphj2ry.jpeg     157    321     J   166    21   195   \n..                              ...     ...    ...   ...   ...   ...   ...   \n194  ckn7cvs8i00613h6619wlyc3u.jpeg      61     84     A    63    16    70   \n195  ckn7dibfl00au3h66aqhhzp0m.jpeg      49    114     8    14     2    24   \n196  ckn7dibfl00au3h66aqhhzp0m.jpeg      49    114     8    25     2    35   \n197  ckn7dibfl00au3h66aqhhzp0m.jpeg      49    114     8    36     4    46   \n198  ckn7dibfl00au3h66aqhhzp0m.jpeg      49    114     3    47     5    57   \n\n     ymax  \n0     146  \n1     146  \n2     147  \n3     146  \n4     134  \n..    ...  \n194    56  \n195    47  \n196    47  \n197    48  \n198    48  \n\n[199 rows x 8 columns]",
      "text/html": "<div>\n<style scoped>\n    .dataframe tbody tr th:only-of-type {\n        vertical-align: middle;\n    }\n\n    .dataframe tbody tr th {\n        vertical-align: top;\n    }\n\n    .dataframe thead th {\n        text-align: right;\n    }\n</style>\n<table border=\"1\" class=\"dataframe\">\n  <thead>\n    <tr style=\"text-align: right;\">\n      <th></th>\n      <th>image</th>\n      <th>height</th>\n      <th>width</th>\n      <th>label</th>\n      <th>xmin</th>\n      <th>ymin</th>\n      <th>xmax</th>\n      <th>ymax</th>\n    </tr>\n  </thead>\n  <tbody>\n    <tr>\n      <th>0</th>\n      <td>ckicup6z1000g246a7fphj2ry.jpeg</td>\n      <td>157</td>\n      <td>321</td>\n      <td>6</td>\n      <td>13</td>\n      <td>11</td>\n      <td>44</td>\n      <td>146</td>\n    </tr>\n    <tr>\n      <th>1</th>\n      <td>ckicup6z1000g246a7fphj2ry.jpeg</td>\n      <td>157</td>\n      <td>321</td>\n      <td>0</td>\n      <td>50</td>\n      <td>33</td>\n      <td>78</td>\n      <td>146</td>\n    </tr>\n    <tr>\n      <th>2</th>\n      <td>ckicup6z1000g246a7fphj2ry.jpeg</td>\n      <td>157</td>\n      <td>321</td>\n      <td>4</td>\n      <td>84</td>\n      <td>11</td>\n      <td>114</td>\n      <td>147</td>\n    </tr>\n    <tr>\n      <th>3</th>\n      <td>ckicup6z1000g246a7fphj2ry.jpeg</td>\n      <td>157</td>\n      <td>321</td>\n      <td>6</td>\n      <td>119</td>\n      <td>11</td>\n      <td>149</td>\n      <td>146</td>\n    </tr>\n    <tr>\n      <th>4</th>\n      <td>ckicup6z1000g246a7fphj2ry.jpeg</td>\n      <td>157</td>\n      <td>321</td>\n      <td>J</td>\n      <td>166</td>\n      <td>21</td>\n      <td>195</td>\n      <td>134</td>\n    </tr>\n    <tr>\n      <th>...</th>\n      <td>...</td>\n      <td>...</td>\n      <td>...</td>\n      <td>...</td>\n      <td>...</td>\n      <td>...</td>\n      <td>...</td>\n      <td>...</td>\n    </tr>\n    <tr>\n      <th>194</th>\n      <td>ckn7cvs8i00613h6619wlyc3u.jpeg</td>\n      <td>61</td>\n      <td>84</td>\n      <td>A</td>\n      <td>63</td>\n      <td>16</td>\n      <td>70</td>\n      <td>56</td>\n    </tr>\n    <tr>\n      <th>195</th>\n      <td>ckn7dibfl00au3h66aqhhzp0m.jpeg</td>\n      <td>49</td>\n      <td>114</td>\n      <td>8</td>\n      <td>14</td>\n      <td>2</td>\n      <td>24</td>\n      <td>47</td>\n    </tr>\n    <tr>\n      <th>196</th>\n      <td>ckn7dibfl00au3h66aqhhzp0m.jpeg</td>\n      <td>49</td>\n      <td>114</td>\n      <td>8</td>\n      <td>25</td>\n      <td>2</td>\n      <td>35</td>\n      <td>47</td>\n    </tr>\n    <tr>\n      <th>197</th>\n      <td>ckn7dibfl00au3h66aqhhzp0m.jpeg</td>\n      <td>49</td>\n      <td>114</td>\n      <td>8</td>\n      <td>36</td>\n      <td>4</td>\n      <td>46</td>\n      <td>48</td>\n    </tr>\n    <tr>\n      <th>198</th>\n      <td>ckn7dibfl00au3h66aqhhzp0m.jpeg</td>\n      <td>49</td>\n      <td>114</td>\n      <td>3</td>\n      <td>47</td>\n      <td>5</td>\n      <td>57</td>\n      <td>48</td>\n    </tr>\n  </tbody>\n</table>\n<p>199 rows × 8 columns</p>\n</div>"
     },
     "execution_count": 3,
     "metadata": {},
     "output_type": "execute_result"
    }
   ],
   "source": [
    "train_dir = 'test_task/test'\n",
    "files = os.listdir(train_dir)\n",
    "data = list()\n",
    "\n",
    "for file in files:\n",
    "    name = file.split('.')\n",
    "    if  name[1] in ['jpeg', 'jpg', 'png']:\n",
    "        tree = ET.parse(os.path.join(train_dir, name[0] + '.xml'))\n",
    "        root = tree.getroot()\n",
    "\n",
    "        for obj in root.findall('object'):\n",
    "            bbox = list()\n",
    "            bbox.append(obj.find('name').text)\n",
    "            for coord in obj.findall('bndbox'):\n",
    "                for attr in ['xmin', 'ymin', 'xmax', 'ymax']:\n",
    "                    bbox.append(int(coord.find(attr).text))\n",
    "            height, width, _ =  cv2.imread(os.path.join(train_dir, name[0] + '.' + name[1])).shape\n",
    "            data.append([name[0] + '.' + name[1], height, width] + bbox)\n",
    "\n",
    "test_df = pd.DataFrame(data, columns=['image', 'height', 'width', 'label', 'xmin', 'ymin', 'xmax', 'ymax'])\n",
    "test_df"
   ],
   "metadata": {
    "collapsed": false,
    "ExecuteTime": {
     "end_time": "2023-10-28T15:13:48.695257400Z",
     "start_time": "2023-10-28T15:13:48.372031700Z"
    }
   },
   "id": "a57904464ba1642a"
  },
  {
   "cell_type": "code",
   "execution_count": 4,
   "outputs": [
    {
     "data": {
      "text/plain": "                               image  height  width label  xmin  ymin  xmax  \\\n0     ckictsenl0000246a2itn28ts.jpeg     110    457     0    44    29    63   \n1     ckictsenl0000246a2itn28ts.jpeg     110    457     5    82    22   101   \n2     ckictsenl0000246a2itn28ts.jpeg     110    457     2   122    14   144   \n3     ckictsenl0000246a2itn28ts.jpeg     110    457     8   163    14   185   \n4     ckictsenl0000246a2itn28ts.jpeg     110    457     L   258    16   283   \n...                              ...     ...    ...   ...   ...   ...   ...   \n5882                augment_409.jpeg      55     94     N    32     6    43   \n5883                augment_409.jpeg      55     94     S    43     8    52   \n5884                augment_409.jpeg      55     94     K    57    13    67   \n5885                augment_409.jpeg      55     94     R    66    13    76   \n5886                augment_409.jpeg      55     94     D    75    15    86   \n\n      ymax  \n0       97  \n1       96  \n2       97  \n3       96  \n4       97  \n...    ...  \n5882    48  \n5883    48  \n5884    48  \n5885    47  \n5886    49  \n\n[5887 rows x 8 columns]",
      "text/html": "<div>\n<style scoped>\n    .dataframe tbody tr th:only-of-type {\n        vertical-align: middle;\n    }\n\n    .dataframe tbody tr th {\n        vertical-align: top;\n    }\n\n    .dataframe thead th {\n        text-align: right;\n    }\n</style>\n<table border=\"1\" class=\"dataframe\">\n  <thead>\n    <tr style=\"text-align: right;\">\n      <th></th>\n      <th>image</th>\n      <th>height</th>\n      <th>width</th>\n      <th>label</th>\n      <th>xmin</th>\n      <th>ymin</th>\n      <th>xmax</th>\n      <th>ymax</th>\n    </tr>\n  </thead>\n  <tbody>\n    <tr>\n      <th>0</th>\n      <td>ckictsenl0000246a2itn28ts.jpeg</td>\n      <td>110</td>\n      <td>457</td>\n      <td>0</td>\n      <td>44</td>\n      <td>29</td>\n      <td>63</td>\n      <td>97</td>\n    </tr>\n    <tr>\n      <th>1</th>\n      <td>ckictsenl0000246a2itn28ts.jpeg</td>\n      <td>110</td>\n      <td>457</td>\n      <td>5</td>\n      <td>82</td>\n      <td>22</td>\n      <td>101</td>\n      <td>96</td>\n    </tr>\n    <tr>\n      <th>2</th>\n      <td>ckictsenl0000246a2itn28ts.jpeg</td>\n      <td>110</td>\n      <td>457</td>\n      <td>2</td>\n      <td>122</td>\n      <td>14</td>\n      <td>144</td>\n      <td>97</td>\n    </tr>\n    <tr>\n      <th>3</th>\n      <td>ckictsenl0000246a2itn28ts.jpeg</td>\n      <td>110</td>\n      <td>457</td>\n      <td>8</td>\n      <td>163</td>\n      <td>14</td>\n      <td>185</td>\n      <td>96</td>\n    </tr>\n    <tr>\n      <th>4</th>\n      <td>ckictsenl0000246a2itn28ts.jpeg</td>\n      <td>110</td>\n      <td>457</td>\n      <td>L</td>\n      <td>258</td>\n      <td>16</td>\n      <td>283</td>\n      <td>97</td>\n    </tr>\n    <tr>\n      <th>...</th>\n      <td>...</td>\n      <td>...</td>\n      <td>...</td>\n      <td>...</td>\n      <td>...</td>\n      <td>...</td>\n      <td>...</td>\n      <td>...</td>\n    </tr>\n    <tr>\n      <th>5882</th>\n      <td>augment_409.jpeg</td>\n      <td>55</td>\n      <td>94</td>\n      <td>N</td>\n      <td>32</td>\n      <td>6</td>\n      <td>43</td>\n      <td>48</td>\n    </tr>\n    <tr>\n      <th>5883</th>\n      <td>augment_409.jpeg</td>\n      <td>55</td>\n      <td>94</td>\n      <td>S</td>\n      <td>43</td>\n      <td>8</td>\n      <td>52</td>\n      <td>48</td>\n    </tr>\n    <tr>\n      <th>5884</th>\n      <td>augment_409.jpeg</td>\n      <td>55</td>\n      <td>94</td>\n      <td>K</td>\n      <td>57</td>\n      <td>13</td>\n      <td>67</td>\n      <td>48</td>\n    </tr>\n    <tr>\n      <th>5885</th>\n      <td>augment_409.jpeg</td>\n      <td>55</td>\n      <td>94</td>\n      <td>R</td>\n      <td>66</td>\n      <td>13</td>\n      <td>76</td>\n      <td>47</td>\n    </tr>\n    <tr>\n      <th>5886</th>\n      <td>augment_409.jpeg</td>\n      <td>55</td>\n      <td>94</td>\n      <td>D</td>\n      <td>75</td>\n      <td>15</td>\n      <td>86</td>\n      <td>49</td>\n    </tr>\n  </tbody>\n</table>\n<p>5887 rows × 8 columns</p>\n</div>"
     },
     "execution_count": 4,
     "metadata": {},
     "output_type": "execute_result"
    }
   ],
   "source": [
    "new_dir = 'train'\n",
    "train_df = pd.read_csv('aug_data.csv', sep='\\t',  index_col=[0])\n",
    "train_df"
   ],
   "metadata": {
    "collapsed": false,
    "ExecuteTime": {
     "end_time": "2023-10-28T15:13:51.464255900Z",
     "start_time": "2023-10-28T15:13:51.402018Z"
    }
   },
   "id": "528a7d452a0f5937"
  },
  {
   "cell_type": "code",
   "execution_count": 5,
   "outputs": [
    {
     "data": {
      "text/plain": "{'0': 0,\n '5': 1,\n '2': 2,\n '8': 3,\n 'L': 4,\n 'U': 5,\n 'X': 6,\n '3': 7,\n 'D': 8,\n 'B': 9,\n '6': 10,\n '9': 11,\n 'J': 12,\n 'A': 13,\n '7': 14,\n 'K': 15,\n 'G': 16,\n '4': 17,\n '1': 18,\n 'T': 19,\n 'R': 20,\n 'V': 21,\n 'H': 22,\n 'N': 23,\n 'E': 24,\n 'S': 25,\n 'Z': 26}"
     },
     "execution_count": 5,
     "metadata": {},
     "output_type": "execute_result"
    }
   ],
   "source": [
    "labels_dcit = {label: i for i, label in enumerate((train_df['label'].unique()))}\n",
    "labels_dcit"
   ],
   "metadata": {
    "collapsed": false,
    "ExecuteTime": {
     "end_time": "2023-10-28T15:13:59.115416100Z",
     "start_time": "2023-10-28T15:13:59.097429200Z"
    }
   },
   "id": "c1f09e75b5080903"
  },
  {
   "cell_type": "code",
   "execution_count": 6,
   "outputs": [
    {
     "data": {
      "text/plain": "27"
     },
     "execution_count": 6,
     "metadata": {},
     "output_type": "execute_result"
    }
   ],
   "source": [
    "len(labels_dcit.keys())"
   ],
   "metadata": {
    "collapsed": false,
    "ExecuteTime": {
     "end_time": "2023-10-28T15:14:00.469243Z",
     "start_time": "2023-10-28T15:14:00.438317Z"
    }
   },
   "id": "71426618dd5b6285"
  },
  {
   "cell_type": "code",
   "execution_count": 7,
   "outputs": [],
   "source": [
    "def pacal_to_yoloy(df):\n",
    "    for name in df['image'].unique():\n",
    "        with open(f'labels/{name.split(\".\")[0]}.txt', 'x') as f:\n",
    "            for index, row in df[df['image'] == name].iterrows():\n",
    "                image_height, image_width, label, xmin, ymin, xmax, ymax = row[1:]\n",
    "                label = labels_dcit[label]\n",
    "                x_center = (xmin + xmax) / 2.0\n",
    "                y_center = (ymin + ymax) / 2.0\n",
    "                width = xmax - xmin\n",
    "                height = ymax - ymin\n",
    "                x_center /= image_width\n",
    "                y_center /= image_height\n",
    "                width /= image_width\n",
    "                height /= image_height     \n",
    "                f.write(' '.join([str(t) for t in [label, x_center, y_center, width, height]]) + '\\n')"
   ],
   "metadata": {
    "collapsed": false,
    "ExecuteTime": {
     "end_time": "2023-10-28T15:14:02.490883400Z",
     "start_time": "2023-10-28T15:14:02.465613900Z"
    }
   },
   "id": "3560c98d35cc93a5"
  },
  {
   "cell_type": "code",
   "execution_count": 8,
   "outputs": [],
   "source": [
    "main_dir = 'data'\n",
    "train_dir = 'data/train'\n",
    "test_dir = 'data/test'\n",
    "val_dir = 'data/val'\n",
    "\n",
    "def copytree(src, dst, symlinks=False, ignore=None):\n",
    "    for item in os.listdir(src):\n",
    "        s = os.path.join(src, item)\n",
    "        d = os.path.join(dst, item)\n",
    "        if os.path.isdir(s):\n",
    "            shutil.copytree(s, d, symlinks, ignore)\n",
    "        else:\n",
    "            shutil.copy2(s, d)\n",
    "\n",
    "if not os.path.exists(main_dir):\n",
    "    os.makedirs(main_dir)\n",
    "if not os.path.exists(val_dir):\n",
    "    os.makedirs(val_dir)\n",
    "if not os.path.exists(train_dir):\n",
    "    os.makedirs(train_dir)\n",
    "if not os.path.exists(test_dir):\n",
    "    os.makedirs(test_dir)\n",
    "\n",
    "for path in [train_dir, test_dir, val_dir]:\n",
    "    if not os.path.exists(os.path.join(path, 'images')):\n",
    "        os.makedirs(os.path.join(path, 'images'))\n",
    "    if not os.path.exists(os.path.join(path, 'labels')):\n",
    "        os.makedirs(os.path.join(path, 'labels'))\n",
    "\n",
    "copytree('./train', 'data/train/images')\n",
    "os.makedirs('./labels')\n",
    "pacal_to_yoloy(train_df)\n",
    "copytree('./labels', 'data/train/labels')\n",
    "shutil.rmtree('./labels')\n",
    "os.makedirs('./labels')\n",
    "pacal_to_yoloy(test_df)\n",
    "copytree('./labels', 'data/test/labels')\n",
    "l = len(os.listdir('data/train/images'))\n",
    "for i, files in enumerate(zip(os.listdir('data/train/images')[:-100:-1], os.listdir('data/train/labels')[:-100:-1])):\n",
    "    if i > 100:\n",
    "        break\n",
    "    shutil.move(os.path.join('data/train/images', files[0]), 'data/val/images')\n",
    "    shutil.move(os.path.join('data/train/labels', files[1]), 'data/val/labels')\n",
    "\n",
    "copytree('./test_task/test', 'data/test/images')\n",
    "for file in os.listdir('data/test/images'):\n",
    "    if file.split('.')[1] in ['txt']:\n",
    "        os.remove(os.path.join('data/test/images', file))\n",
    "    if file.split('.')[1] in ['xml']:\n",
    "        os.remove(os.path.join('data/test/images', file))"
   ],
   "metadata": {
    "collapsed": false,
    "ExecuteTime": {
     "end_time": "2023-10-28T15:14:23.118631600Z",
     "start_time": "2023-10-28T15:14:09.320005700Z"
    }
   },
   "id": "1918cacc6196adcc"
  },
  {
   "cell_type": "code",
   "execution_count": 63,
   "outputs": [
    {
     "data": {
      "text/plain": "['ckn7dpc87001w3h66nfp0otgl.jpeg',\n 'ckn7dmzrd00183h66joxua5db.jpeg',\n 'ckn7dir8501jg3068balc54jg.jpeg',\n 'ckn7dhjmw00ah3h6665lnlr86.jpeg',\n 'ckn7dh3je01iu3068snby04rn.jpeg',\n 'ckn7deu7101hs3068m7efvnxq.jpeg',\n 'ckn7ddopj01h63068h5v2q77y.jpeg',\n 'ckn7dddzj008x3h66b54u9qe8.jpeg',\n 'ckn7d936n008b3h66bt0vc5k8.jpeg',\n 'ckn7d83mv01ew3068hb7iluwa.jpeg',\n 'ckn7d6qv001ea3068n03uk9t5.jpeg',\n 'ckn7d39dd007p3h66gjeio0dd.jpeg',\n 'ckn7d0pi701c83068l3u59ybi.jpeg',\n 'ckn7cqorl004n3h66jq6uii6v.jpeg',\n 'ckn7cpxgn019t3068m8oin3a6.jpeg',\n 'ckn7comxi00413h66ud96f14z.jpeg',\n 'ckn7cknnn002r3h66iyh76v2t.jpeg',\n 'ckn7cgwc1016v30687fk1z4c5.jpeg',\n 'ckn7cgkqf001s3h66ulbd74z0.jpeg',\n 'ckn7cd7vt015e3068szo8o3o8.jpeg',\n 'ckn7cbwkg014s30680jyijnxi.jpeg',\n 'ckn7ca2h101443068w6pm5v6a.jpeg',\n 'ckn7c8rgv013i3068m7fsw10h.jpeg',\n 'ckn7c5mu8012k3068zcdr9iqs.jpeg',\n 'ckn7c3yiy011y3068ifee2ecc.jpeg',\n 'ckn7becgs00zu3068jm5bsyvb.jpeg',\n 'ckn7b6drt00yh3068huxns41f.jpeg',\n 'ckn7b42rh00xt3068la1z4fjx.jpeg',\n 'ckn7b2qoh00x73068nu6pzvr2.jpeg',\n 'ckn7b0sp000wl3068g7fawlpv.jpeg',\n 'ckn7aycms00vd3068aimfio5c.jpeg',\n 'ckn7aprot00ur3068ypqa0une.jpeg',\n 'ckn7aoqm200u530683n3cmkiz.jpeg',\n 'ckn7aihvk00sw3068tdyf8d97.jpeg',\n 'ckn7agzb600sa3068jeyz31e3.jpeg',\n 'ckn7aempw00rm3068057a0y1q.jpeg',\n 'ckn7aclb800r03068d5t0pzp3.jpeg',\n 'ckn7a9a4q00pv306804fq4kil.jpeg',\n 'ckn7a78lx00p93068pfsjejvg.jpeg',\n 'ckn783rxv00nj3068jlxoy78t.jpeg',\n 'ckn7821ce00mx3068efkf7dth.jpeg',\n 'ckn77wti900l73068fqmsc7zn.jpeg',\n 'ckn77vabg00kl3068mhzdrnvq.jpeg',\n 'ckn77t68m00jz3068vrhhs415.jpeg',\n 'ckn77r47z00jc3068phq7x5u2.jpeg',\n 'ckn77ldw900hr30680cirpfy7.jpeg',\n 'ckn77ides00gv3068jmb2dpn4.jpeg',\n 'ckn77ecdm00fu3068vmwodvl4.jpeg',\n 'ckn77aqr000ey3068vt4m50xm.jpeg',\n 'ckn7765tp00e73068edwy9ubg.jpeg',\n 'ckn774c1m00dl30683tbrc2ic.jpeg',\n 'ckn772m7k00cz30684eb913wt.jpeg',\n 'ckn76y8dn00bz3068fs7apahu.jpeg',\n 'ckn76wkup00bd3068wnf7a1hy.jpeg',\n 'ckn76v8qr00ap306849gmmpqx.jpeg',\n 'ckn76r7kl009a3068blod1qdc.jpeg',\n 'ckn76nixr008m3068mquo57qh.jpeg',\n 'ckn76ip74007a30682nrx8h01.jpeg',\n 'ckn76cx66005t3068j4uv8zkw.jpeg',\n 'ckn7686ed004m3068b0553zq5.jpeg',\n 'ckn75td6o000l3068nelfuzlo.jpeg',\n 'ckifolf9z00aj246api63kslf.jpeg',\n 'ckifod4rs00ad246acbpf4v8j.jpeg',\n 'ckifndgvd00a9246aa06cpuvg.jpeg',\n 'ckifn512q00a8246aaoq5f6ll.jpeg',\n 'ckifmx69n00a7246assypv8my.jpeg',\n 'ckifmm6sf00a4246a858n7dhs.jpeg',\n 'ckifmhgzy00a3246av1djunb9.jpeg',\n 'ckifmfy5700a2246a7u5lh6h4.jpeg',\n 'ckifm94vz009y246agi98tifj.jpeg',\n 'ckifm7q8e009x246avxzyhvy6.jpeg',\n 'ckifluym1009p246as32dxgyt.jpeg',\n 'ckifltrwe009o246ax3f4lhcv.jpeg',\n 'ckiflrp2h009n246ab3dnxg9q.jpeg',\n 'ckiflojgk009l246a0itpeepk.jpeg',\n 'ckiflmt0w009j246awf9hv9d1.jpeg',\n 'ckiflk39s009h246ayiq0t2tz.jpeg',\n 'ckifleepa009f246a792lv9v2.jpeg',\n 'ckiflayt7009d246aajkdq0oq.jpeg',\n 'ckifkuky90098246adorxvrx5.jpeg',\n 'ckifkr4ok0094246alfrb18va.jpeg',\n 'ckifkprvh0093246a9hoto9rg.jpeg',\n 'ckifkoc1y0092246amgflfxdm.jpeg',\n 'ckifkmstp0091246a8dh7nde9.jpeg',\n 'ckifkl2y7008z246a7tptseu1.jpeg',\n 'ckifkjs2b008y246amzqp1inl.jpeg',\n 'ckifkih05008x246as7103oi9.jpeg',\n 'ckifkf1s3008v246aep91ayw6.jpeg',\n 'ckifkaw4q008s246alvvfpfyr.jpeg',\n 'ckifk50yk008n246a7ntg0hb3.jpeg',\n 'ckifk0r9c008k246adh7izqsv.jpeg',\n 'ckifjwt8j008i246anvknmto5.jpeg',\n 'ckifjruh0008e246a6zocho5x.jpeg',\n 'ckifjkzph008a246akpksuwqy.jpeg',\n 'ckifjjcrk0089246a0ilts4fq.jpeg',\n 'ckifjgdg90086246apo0dno2x.jpeg',\n 'ckifjc4qn0082246akiwk2wnu.jpeg',\n 'ckifj7r3k007y246anf5dczuy.jpeg',\n 'ckifj4px2007w246aosgaphee.jpeg']"
     },
     "execution_count": 63,
     "metadata": {},
     "output_type": "execute_result"
    }
   ],
   "source": [
    "os.listdir('data/train/images')[:-100:-1]"
   ],
   "metadata": {
    "collapsed": false,
    "ExecuteTime": {
     "end_time": "2023-10-27T23:35:07.748028600Z",
     "start_time": "2023-10-27T23:35:07.716590Z"
    }
   },
   "id": "7f83a80468fc6759"
  },
  {
   "cell_type": "code",
   "execution_count": 66,
   "outputs": [],
   "source": [
    "for i in os.listdir('data/train/images')[:-100:-1]:\n",
    "    c = 0\n",
    "    for i1 in os.listdir('data/train/labels')[:-100:-1]:\n",
    "        if i.split('.')[0] == i1.split('.')[0]:\n",
    "            c += 1\n",
    "    if c != 1:\n",
    "        print('Error')\n",
    "        break"
   ],
   "metadata": {
    "collapsed": false
   },
   "id": "da97bbc4be53c9ac"
  },
  {
   "cell_type": "code",
   "execution_count": null,
   "outputs": [],
   "source": [],
   "metadata": {
    "collapsed": false
   },
   "id": "690f8dee062006e2"
  }
 ],
 "metadata": {
  "kernelspec": {
   "display_name": "Python 3",
   "language": "python",
   "name": "python3"
  },
  "language_info": {
   "codemirror_mode": {
    "name": "ipython",
    "version": 2
   },
   "file_extension": ".py",
   "mimetype": "text/x-python",
   "name": "python",
   "nbconvert_exporter": "python",
   "pygments_lexer": "ipython2",
   "version": "2.7.6"
  }
 },
 "nbformat": 4,
 "nbformat_minor": 5
}
